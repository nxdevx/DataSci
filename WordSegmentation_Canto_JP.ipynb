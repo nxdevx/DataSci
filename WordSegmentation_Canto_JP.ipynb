{
  "nbformat": 4,
  "nbformat_minor": 0,
  "metadata": {
    "colab": {
      "provenance": []
    },
    "kernelspec": {
      "name": "python3",
      "display_name": "Python 3"
    },
    "language_info": {
      "name": "python"
    }
  },
  "cells": [
    {
      "cell_type": "code",
      "execution_count": 27,
      "metadata": {
        "colab": {
          "base_uri": "https://localhost:8080/"
        },
        "id": "_7Vk0RKZDIbG",
        "outputId": "34a5bf10-16e4-4d9d-b62b-6c6655138162"
      },
      "outputs": [
        {
          "output_type": "stream",
          "name": "stdout",
          "text": [
            "Requirement already satisfied: pycantonese in /usr/local/lib/python3.10/dist-packages (3.4.0)\n",
            "Requirement already satisfied: pylangacq<0.17.0,>=0.16.0 in /usr/local/lib/python3.10/dist-packages (from pycantonese) (0.16.2)\n",
            "Requirement already satisfied: wordseg==0.0.2 in /usr/local/lib/python3.10/dist-packages (from pycantonese) (0.0.2)\n",
            "Requirement already satisfied: python-dateutil<=3.0.0,>=2.0.0 in /usr/local/lib/python3.10/dist-packages (from pylangacq<0.17.0,>=0.16.0->pycantonese) (2.8.2)\n",
            "Requirement already satisfied: requests<=3.0.0,>=2.18.0 in /usr/local/lib/python3.10/dist-packages (from pylangacq<0.17.0,>=0.16.0->pycantonese) (2.31.0)\n",
            "Requirement already satisfied: tabulate[widechars]<=0.9.0,>=0.8.9 in /usr/local/lib/python3.10/dist-packages (from pylangacq<0.17.0,>=0.16.0->pycantonese) (0.9.0)\n",
            "Requirement already satisfied: six>=1.5 in /usr/local/lib/python3.10/dist-packages (from python-dateutil<=3.0.0,>=2.0.0->pylangacq<0.17.0,>=0.16.0->pycantonese) (1.16.0)\n",
            "Requirement already satisfied: charset-normalizer<4,>=2 in /usr/local/lib/python3.10/dist-packages (from requests<=3.0.0,>=2.18.0->pylangacq<0.17.0,>=0.16.0->pycantonese) (3.3.2)\n",
            "Requirement already satisfied: idna<4,>=2.5 in /usr/local/lib/python3.10/dist-packages (from requests<=3.0.0,>=2.18.0->pylangacq<0.17.0,>=0.16.0->pycantonese) (3.4)\n",
            "Requirement already satisfied: urllib3<3,>=1.21.1 in /usr/local/lib/python3.10/dist-packages (from requests<=3.0.0,>=2.18.0->pylangacq<0.17.0,>=0.16.0->pycantonese) (2.0.7)\n",
            "Requirement already satisfied: certifi>=2017.4.17 in /usr/local/lib/python3.10/dist-packages (from requests<=3.0.0,>=2.18.0->pylangacq<0.17.0,>=0.16.0->pycantonese) (2023.7.22)\n",
            "Requirement already satisfied: wcwidth in /usr/local/lib/python3.10/dist-packages (from tabulate[widechars]<=0.9.0,>=0.8.9->pylangacq<0.17.0,>=0.16.0->pycantonese) (0.2.9)\n",
            "Requirement already satisfied: mecab-python3 in /usr/local/lib/python3.10/dist-packages (1.0.8)\n",
            "Requirement already satisfied: unidic-lite in /usr/local/lib/python3.10/dist-packages (1.0.8)\n",
            "Requirement already satisfied: jieba in /usr/local/lib/python3.10/dist-packages (0.42.1)\n"
          ]
        }
      ],
      "source": [
        "%pip install pycantonese\n",
        "\n",
        "%pip install mecab-python3\n",
        "%pip install unidic-lite\n",
        "\n",
        "%pip install jieba"
      ]
    },
    {
      "cell_type": "code",
      "source": [
        "# Ref: https://pycantonese.org/word_segmentation.html\n",
        "\n",
        "import pycantonese\n",
        "from pycantonese.word_segmentation import Segmenter\n",
        "\n",
        "# Ref: https://github.com/SamuraiT/mecab-python3\n",
        "import MeCab\n",
        "\n",
        "# Ref: https://alvinntnu.github.io/NTNU_ENC2045_LECTURES/nlp/chinese-word-seg.html\n",
        "import jieba"
      ],
      "metadata": {
        "id": "eCHafZhwDUNm"
      },
      "execution_count": 28,
      "outputs": []
    },
    {
      "cell_type": "code",
      "source": [
        "text = \"兒子生性病母倍感安慰\""
      ],
      "metadata": {
        "id": "GCHeAp8kDUSS"
      },
      "execution_count": 3,
      "outputs": []
    },
    {
      "cell_type": "code",
      "source": [
        "pycantonese.segment(text)"
      ],
      "metadata": {
        "colab": {
          "base_uri": "https://localhost:8080/"
        },
        "id": "7J3lfXMnDUUy",
        "outputId": "83534060-31ea-4240-a653-db742e69fbcc"
      },
      "execution_count": 4,
      "outputs": [
        {
          "output_type": "execute_result",
          "data": {
            "text/plain": [
              "['兒子', '生性', '病', '母', '倍感', '安慰']"
            ]
          },
          "metadata": {},
          "execution_count": 4
        }
      ]
    },
    {
      "cell_type": "code",
      "source": [
        "segmenterA = Segmenter(allow={\"病母\"})\n",
        "pycantonese.segment(text, cls= segmenterA)"
      ],
      "metadata": {
        "colab": {
          "base_uri": "https://localhost:8080/"
        },
        "id": "P7yfSYVMDUW_",
        "outputId": "c951c3f7-9f68-4c0d-b7db-6883426ac02e"
      },
      "execution_count": 10,
      "outputs": [
        {
          "output_type": "execute_result",
          "data": {
            "text/plain": [
              "['兒子', '生性', '病母', '倍感', '安慰']"
            ]
          },
          "metadata": {},
          "execution_count": 10
        }
      ]
    },
    {
      "cell_type": "code",
      "source": [
        "segmenterD = Segmenter(disallow={\"性病\"})\n",
        "pycantonese.segment(text, cls= segmenterD)"
      ],
      "metadata": {
        "colab": {
          "base_uri": "https://localhost:8080/"
        },
        "id": "3gdwWPWbDUZa",
        "outputId": "1e34a968-e63f-4603-9754-403e5eb1d3a2"
      },
      "execution_count": 11,
      "outputs": [
        {
          "output_type": "execute_result",
          "data": {
            "text/plain": [
              "['兒子', '生性', '病', '母', '倍感', '安慰']"
            ]
          },
          "metadata": {},
          "execution_count": 11
        }
      ]
    },
    {
      "cell_type": "code",
      "source": [
        "segmenterM = Segmenter(max_word_length= 2)\n",
        "pycantonese.segment(text, cls= segmenterD)"
      ],
      "metadata": {
        "colab": {
          "base_uri": "https://localhost:8080/"
        },
        "id": "9mhOsv4EDUbv",
        "outputId": "03df07b7-f123-4608-e19b-698a41e3f1ef"
      },
      "execution_count": 12,
      "outputs": [
        {
          "output_type": "execute_result",
          "data": {
            "text/plain": [
              "['兒子', '生性', '病', '母', '倍感', '安慰']"
            ]
          },
          "metadata": {},
          "execution_count": 12
        }
      ]
    },
    {
      "cell_type": "code",
      "source": [],
      "metadata": {
        "id": "nnRVhnlSD4p_"
      },
      "execution_count": null,
      "outputs": []
    },
    {
      "cell_type": "code",
      "source": [],
      "metadata": {
        "id": "Y2neNpYUD4sb"
      },
      "execution_count": 18,
      "outputs": []
    },
    {
      "cell_type": "code",
      "source": [],
      "metadata": {
        "id": "CDAK6TIZD4u7"
      },
      "execution_count": null,
      "outputs": []
    },
    {
      "cell_type": "code",
      "source": [
        "wakati = MeCab.Tagger(\"-Owakati\")\n",
        "wakati.parse(\"pythonが大好きです\").split()"
      ],
      "metadata": {
        "colab": {
          "base_uri": "https://localhost:8080/"
        },
        "id": "ODM_6UIlFx2v",
        "outputId": "9210b775-89ee-447b-c091-2889c85e054d"
      },
      "execution_count": 25,
      "outputs": [
        {
          "output_type": "execute_result",
          "data": {
            "text/plain": [
              "['python', 'が', '大好き', 'です']"
            ]
          },
          "metadata": {},
          "execution_count": 25
        }
      ]
    },
    {
      "cell_type": "code",
      "source": [
        "\n",
        "wakati.parse(text).split()"
      ],
      "metadata": {
        "colab": {
          "base_uri": "https://localhost:8080/"
        },
        "id": "WDxVnzKrFx5U",
        "outputId": "09fe2d38-5d90-4ebf-d84b-86ea498c1855"
      },
      "execution_count": 26,
      "outputs": [
        {
          "output_type": "execute_result",
          "data": {
            "text/plain": [
              "['兒子', '生', '性', '病母', '倍', '感', '安慰']"
            ]
          },
          "metadata": {},
          "execution_count": 26
        }
      ]
    },
    {
      "cell_type": "code",
      "source": [],
      "metadata": {
        "id": "pwSV0uaiFx7q"
      },
      "execution_count": null,
      "outputs": []
    },
    {
      "cell_type": "code",
      "source": [
        "text_jb = jieba.lcut(text)\n",
        "print(' | '.join(text_jb))"
      ],
      "metadata": {
        "colab": {
          "base_uri": "https://localhost:8080/"
        },
        "id": "boj5oumJFx-L",
        "outputId": "8ac34a6b-4fa5-44c8-d562-9c291b80d13d"
      },
      "execution_count": 29,
      "outputs": [
        {
          "output_type": "stream",
          "name": "stderr",
          "text": [
            "Building prefix dict from the default dictionary ...\n",
            "DEBUG:jieba:Building prefix dict from the default dictionary ...\n",
            "Dumping model to file cache /tmp/jieba.cache\n",
            "DEBUG:jieba:Dumping model to file cache /tmp/jieba.cache\n",
            "Loading model cost 0.843 seconds.\n",
            "DEBUG:jieba:Loading model cost 0.843 seconds.\n",
            "Prefix dict has been built successfully.\n",
            "DEBUG:jieba:Prefix dict has been built successfully.\n"
          ]
        },
        {
          "output_type": "stream",
          "name": "stdout",
          "text": [
            "兒子生 | 性病 | 母 | 倍感 | 安慰\n"
          ]
        }
      ]
    },
    {
      "cell_type": "code",
      "source": [],
      "metadata": {
        "id": "TqqfjCJuG6VK"
      },
      "execution_count": null,
      "outputs": []
    },
    {
      "cell_type": "code",
      "source": [],
      "metadata": {
        "id": "G7ncg7x7G6Xm"
      },
      "execution_count": null,
      "outputs": []
    },
    {
      "cell_type": "code",
      "source": [],
      "metadata": {
        "id": "COMJMkvtG6Zw"
      },
      "execution_count": 30,
      "outputs": []
    },
    {
      "cell_type": "code",
      "source": [
        "# Others:\n",
        "\n",
        "# 使用Owakati進行分詞處理\n",
        "# Ref: https://qiita.com/uichi/items/dd05f1d83ed22911f420\n",
        "\n",
        "# Japanese BERT-base (MeCab + BPE) | Hugging Face\n",
        "# hitachi-nlp/bert-base-japanese_mecab-bpe\n",
        "# Ref: https://huggingface.co/hitachi-nlp/bert-base-japanese_mecab-bpe"
      ],
      "metadata": {
        "id": "gSFXxB1qIgyk"
      },
      "execution_count": 32,
      "outputs": []
    },
    {
      "cell_type": "code",
      "source": [],
      "metadata": {
        "id": "4LsglwhZIiaO"
      },
      "execution_count": null,
      "outputs": []
    }
  ]
}